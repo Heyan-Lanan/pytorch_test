{
 "cells": [
  {
   "cell_type": "code",
   "execution_count": 1,
   "metadata": {
    "collapsed": true,
    "pycharm": {
     "name": "#%%\n"
    }
   },
   "outputs": [
    {
     "data": {
      "text/plain": "'1.13.0+cpu'"
     },
     "execution_count": 1,
     "metadata": {},
     "output_type": "execute_result"
    }
   ],
   "source": [
    "import torch\n",
    "\n",
    "torch.__version__"
   ]
  },
  {
   "cell_type": "code",
   "execution_count": 2,
   "outputs": [
    {
     "data": {
      "text/plain": "tensor([[1.5554e-43, 1.5975e-43, 1.3873e-43],\n        [1.4574e-43, 1.4013e-44, 1.4013e-44],\n        [1.6255e-43, 1.5554e-43, 1.5975e-43],\n        [1.3873e-43, 1.4574e-43, 6.4460e-44],\n        [1.3312e-43, 1.3312e-43, 1.6535e-43]])"
     },
     "execution_count": 2,
     "metadata": {},
     "output_type": "execute_result"
    }
   ],
   "source": [
    "torch.empty(5, 3)"
   ],
   "metadata": {
    "collapsed": false,
    "pycharm": {
     "name": "#%%\n"
    }
   }
  },
  {
   "cell_type": "code",
   "execution_count": 3,
   "outputs": [
    {
     "data": {
      "text/plain": "tensor([[0.5417, 0.5486, 0.8198],\n        [0.8018, 0.6830, 0.7348],\n        [0.3726, 0.1647, 0.9812],\n        [0.2837, 0.5999, 0.8046],\n        [0.6997, 0.0729, 0.6543]])"
     },
     "execution_count": 3,
     "metadata": {},
     "output_type": "execute_result"
    }
   ],
   "source": [
    "torch.rand(5, 3)"
   ],
   "metadata": {
    "collapsed": false,
    "pycharm": {
     "name": "#%%\n"
    }
   }
  },
  {
   "cell_type": "code",
   "execution_count": 7,
   "outputs": [
    {
     "name": "stdout",
     "output_type": "stream",
     "text": [
      "0 32.22322082519531 tensor([[-0.3216],\n",
      "        [-1.1760],\n",
      "        [-2.0305]])\n",
      "100 0.19908487796783447 tensor([[2.6598],\n",
      "        [4.1416],\n",
      "        [5.6233]])\n",
      "200 0.12302225828170776 tensor([[2.5187],\n",
      "        [4.1113],\n",
      "        [5.7039]])\n",
      "300 0.07602027803659439 tensor([[2.4077],\n",
      "        [4.0875],\n",
      "        [5.7673]])\n",
      "400 0.04697592929005623 tensor([[2.3205],\n",
      "        [4.0688],\n",
      "        [5.8171]])\n",
      "500 0.029028264805674553 tensor([[2.2520],\n",
      "        [4.0541],\n",
      "        [5.8562]])\n",
      "600 0.0179376769810915 tensor([[2.1981],\n",
      "        [4.0425],\n",
      "        [5.8869]])\n",
      "700 0.011084397323429585 tensor([[2.1557],\n",
      "        [4.0334],\n",
      "        [5.9111]])\n",
      "800 0.006849481258541346 tensor([[2.1224],\n",
      "        [4.0263],\n",
      "        [5.9301]])\n",
      "900 0.004232556093484163 tensor([[2.0962],\n",
      "        [4.0206],\n",
      "        [5.9451]])\n",
      "1.9406023025512695 0.13502514362335205\n"
     ]
    }
   ],
   "source": [
    "x_data = torch.Tensor([[1.0], [2.0], [3.0]])\n",
    "y_data = torch.Tensor([[2.0], [4.0], [6.0]])\n",
    "\n",
    "\n",
    "class LinearModel(torch.nn.Module):  #从Module继承\n",
    "    #必须实现以下两个函数\n",
    "    #初始化\n",
    "    def __init__(self):\n",
    "        super().__init__()  #调用父类的初始化\n",
    "        self.linear = torch.nn.Linear(1, 1)  #构造一个对象，包含权重和偏置\n",
    "        #Linear的参数为，输入的维度（特征数量，不是样本数量）和输出的维度，以及是否有偏置(默认为True)\n",
    "\n",
    "    #前馈过程中进行的计算\n",
    "    def forward(self, x):  #这里实际上是一个override\n",
    "        y_pred_1 = self.linear(x)  #在这里计算w * x + b 线性模型\n",
    "        return y_pred_1\n",
    "    #不需要自己写反馈\n",
    "\n",
    "\n",
    "model = LinearModel()  #这里的model是callable可调用的 调用方法为:model(x)\n",
    "\n",
    "criterion = torch.nn.MSELoss()  #是否要求均值\n",
    "optimizer = torch.optim.SGD(model.parameters(), lr=0.01)\n",
    "\n",
    "for epoch in range(1000):\n",
    "    y_pred = model(x_data)\n",
    "    loss = criterion(y_pred, y_data)\n",
    "    if epoch % 100 == 0:\n",
    "        print(epoch, loss.item(), y_pred.data)\n",
    "\n",
    "    optimizer.zero_grad()  #梯度归零\n",
    "    loss.backward()\n",
    "    optimizer.step()  #根据梯度和预先设置的学习率自动更新\n",
    "print(model.linear.weight.item(), model.linear.bias.item())"
   ],
   "metadata": {
    "collapsed": false,
    "pycharm": {
     "name": "#%%\n"
    }
   }
  },
  {
   "cell_type": "code",
   "execution_count": 5,
   "outputs": [
    {
     "name": "stdout",
     "output_type": "stream",
     "text": [
      "i can called like a function\n",
      "32\n",
      "I am func2\n",
      "2\n"
     ]
    }
   ],
   "source": [
    "class C1:\n",
    "    def __init__(self, x):\n",
    "        self.x = x\n",
    "\n",
    "    def func1(self, a):\n",
    "        return 2 * a + self.x\n",
    "\n",
    "    def func2(self):\n",
    "        print(\"I am func2\")\n",
    "        return self.x\n",
    "\n",
    "    def __call__(self, u):\n",
    "        print('i can called like a function')\n",
    "        return self.func1(u)\n",
    "\n",
    "\n",
    "class C2(C1):\n",
    "    def __init__(self, x, y):\n",
    "        self.x = 0\n",
    "        super().__init__(y)\n",
    "\n",
    "    def func1(self, a):\n",
    "        return 3 * a + self.x\n",
    "\n",
    "\n",
    "mod = C2(1, 2)\n",
    "mod1 = C1(1)\n",
    "# test = mod.func1(3)\n",
    "# print(test)\n",
    "print(mod(10))\n",
    "test = mod.func2()\n",
    "print(test)"
   ],
   "metadata": {
    "collapsed": false,
    "pycharm": {
     "name": "#%%\n"
    }
   }
  },
  {
   "cell_type": "code",
   "execution_count": 8,
   "outputs": [
    {
     "data": {
      "text/plain": "OrderedDict([('linear.weight', tensor([[1.9406]])),\n             ('linear.bias', tensor([0.1350]))])"
     },
     "execution_count": 8,
     "metadata": {},
     "output_type": "execute_result"
    }
   ],
   "source": [
    "model.state_dict()"
   ],
   "metadata": {
    "collapsed": false,
    "pycharm": {
     "name": "#%%\n"
    }
   }
  },
  {
   "cell_type": "code",
   "execution_count": 10,
   "outputs": [
    {
     "data": {
      "text/plain": "[('linear.weight',\n  Parameter containing:\n  tensor([[1.9406]], requires_grad=True)),\n ('linear.bias',\n  Parameter containing:\n  tensor([0.1350], requires_grad=True))]"
     },
     "execution_count": 10,
     "metadata": {},
     "output_type": "execute_result"
    }
   ],
   "source": [
    "list(model.named_parameters())"
   ],
   "metadata": {
    "collapsed": false,
    "pycharm": {
     "name": "#%%\n"
    }
   }
  },
  {
   "cell_type": "code",
   "execution_count": 11,
   "outputs": [],
   "source": [
    "torch.save(model.state_dict(), 'bn.pt')"
   ],
   "metadata": {
    "collapsed": false,
    "pycharm": {
     "name": "#%%\n"
    }
   }
  },
  {
   "cell_type": "code",
   "execution_count": 13,
   "outputs": [
    {
     "name": "stdout",
     "output_type": "stream",
     "text": [
      "OrderedDict([('linear.weight', tensor([[1.9406]])), ('linear.bias', tensor([0.1350]))])\n"
     ]
    }
   ],
   "source": [
    "bn_state_dict = torch.load('bn.pt')\n",
    "print(bn_state_dict)"
   ],
   "metadata": {
    "collapsed": false,
    "pycharm": {
     "name": "#%%\n"
    }
   }
  }
 ],
 "metadata": {
  "kernelspec": {
   "display_name": "Python 3",
   "language": "python",
   "name": "python3"
  },
  "language_info": {
   "codemirror_mode": {
    "name": "ipython",
    "version": 2
   },
   "file_extension": ".py",
   "mimetype": "text/x-python",
   "name": "python",
   "nbconvert_exporter": "python",
   "pygments_lexer": "ipython2",
   "version": "2.7.6"
  }
 },
 "nbformat": 4,
 "nbformat_minor": 0
}